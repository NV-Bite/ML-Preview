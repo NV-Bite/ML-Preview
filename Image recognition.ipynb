{
 "cells": [
  {
   "cell_type": "code",
   "execution_count": 1,
   "metadata": {},
   "outputs": [
    {
     "name": "stderr",
     "output_type": "stream",
     "text": [
      "C:\\Users\\rizky\\AppData\\Local\\Packages\\PythonSoftwareFoundation.Python.3.11_qbz5n2kfra8p0\\LocalCache\\local-packages\\Python311\\site-packages\\tqdm\\auto.py:21: TqdmWarning: IProgress not found. Please update jupyter and ipywidgets. See https://ipywidgets.readthedocs.io/en/stable/user_install.html\n",
      "  from .autonotebook import tqdm as notebook_tqdm\n",
      "2024-10-28 14:49:33.304 WARNING streamlit.runtime.scriptrunner_utils.script_run_context: Thread 'MainThread': missing ScriptRunContext! This warning can be ignored when running in bare mode.\n",
      "2024-10-28 14:49:33.914 \n",
      "  \u001b[33m\u001b[1mWarning:\u001b[0m to view this Streamlit app on a browser, run it with the following\n",
      "  command:\n",
      "\n",
      "    streamlit run C:\\Users\\rizky\\AppData\\Local\\Packages\\PythonSoftwareFoundation.Python.3.11_qbz5n2kfra8p0\\LocalCache\\local-packages\\Python311\\site-packages\\ipykernel_launcher.py [ARGUMENTS]\n",
      "2024-10-28 14:49:33.916 Thread 'MainThread': missing ScriptRunContext! This warning can be ignored when running in bare mode.\n",
      "2024-10-28 14:49:33.917 Thread 'MainThread': missing ScriptRunContext! This warning can be ignored when running in bare mode.\n",
      "2024-10-28 14:49:33.917 Thread 'MainThread': missing ScriptRunContext! This warning can be ignored when running in bare mode.\n",
      "2024-10-28 14:49:33.918 Thread 'MainThread': missing ScriptRunContext! This warning can be ignored when running in bare mode.\n",
      "2024-10-28 14:49:33.918 Thread 'MainThread': missing ScriptRunContext! This warning can be ignored when running in bare mode.\n",
      "2024-10-28 14:49:33.918 Session state does not function when running a script without `streamlit run`\n",
      "2024-10-28 14:49:33.918 Thread 'MainThread': missing ScriptRunContext! This warning can be ignored when running in bare mode.\n",
      "2024-10-28 14:49:33.919 Thread 'MainThread': missing ScriptRunContext! This warning can be ignored when running in bare mode.\n",
      "2024-10-28 14:49:33.919 Thread 'MainThread': missing ScriptRunContext! This warning can be ignored when running in bare mode.\n",
      "2024-10-28 14:49:33.921 Thread 'MainThread': missing ScriptRunContext! This warning can be ignored when running in bare mode.\n",
      "2024-10-28 14:49:33.921 Thread 'MainThread': missing ScriptRunContext! This warning can be ignored when running in bare mode.\n",
      "2024-10-28 14:49:33.922 Thread 'MainThread': missing ScriptRunContext! This warning can be ignored when running in bare mode.\n",
      "2024-10-28 14:49:33.922 Thread 'MainThread': missing ScriptRunContext! This warning can be ignored when running in bare mode.\n"
     ]
    }
   ],
   "source": [
    "import streamlit as st\n",
    "import google.generativeai as genai\n",
    "import markdown\n",
    "\n",
    "# Read the API key from the file\n",
    "api_key = open('api.txt').read().strip()\n",
    "\n",
    "# Configure the API key\n",
    "genai.configure(api_key=api_key)\n",
    "\n",
    "# Create the model\n",
    "generation_config = {\n",
    "    \"temperature\": 1,\n",
    "    \"top_p\": 0.95,\n",
    "    \"top_k\": 64,\n",
    "    \"max_output_tokens\": 8192,\n",
    "    \"response_mime_type\": \"text/plain\",\n",
    "}\n",
    "\n",
    "model = genai.GenerativeModel(\n",
    "    model_name=\"gemini-1.5-flash\",\n",
    "    generation_config=generation_config,\n",
    "    system_instruction=\"**Anda adalah asisten cerdas yang bertugas untuk menganalisis pesanan makanan dan menghitung jejak karbon.**\\n\\n**Instruksi:** dengan oenuh keyakinan\\n\\n1. **Identifikasi Item Makanan**:\\n   - Tentukan apakah setiap item makanan bersifat vegetarian atau non-vegetarian.\\n   - Buatlah daftar setiap item makanan beserta klasifikasinya (veg/non-veg).\\n\\n2. **Hitung Emisi Karbon**:\\n   - Gunakan faktor emisi karbon yang spesifik untuk Indoensia, untuk menghitung emisi karbon dari setiap item makanan.\\n   - Sertakan faktor emisi karbon yang digunakan untuk setiap item makanan.\\n\\n3. **Berikan Rincian**:\\n   - Rincikan emisi karbon untuk setiap item makanan secara terpisah.\\n   - Buatlah ringkasan total emisi karbon untuk seluruh pesanan buat dalam tabel.\\n\\n4. **Ringkaskan Hasil dengan Singkat**:\\n   - Sertakan ringkasan singkat tentang pesanan.\\n   - Sebutkan jenis (veg/non-veg).\\n   - Nyatakan total emisi karbon dalam bentuk tabel.\\n   - Berikan rincian emisi yang relevan.\\n5. berikan kata kata yang membuat user agar melakukan sustainability\\n6. buat hasil rinhgkasan atau hitung hitungan nya dalam bentuk sheet atau tabel\",\n",
    ")\n",
    "\n",
    "# Streamlit app\n",
    "st.title(\"Food Order Carbon Footprint Analyzer\")\n",
    "\n",
    "# User input\n",
    "user_input = st.text_area(\"Enter your food order:\", \"\")\n",
    "\n",
    "if st.button(\"Analyze\"):\n",
    "    if user_input:\n",
    "        chat_session = model.start_chat(\n",
    "            history=[\n",
    "                {\n",
    "                    \"role\": \"user\",\n",
    "                    \"parts\": [user_input],\n",
    "                }\n",
    "            ]\n",
    "        )\n",
    "\n",
    "        response = chat_session.send_message(user_input)\n",
    "\n",
    "        # Convert the response text to Markdown\n",
    "        markdown_response = markdown.markdown(response.text)\n",
    "\n",
    "        # Display the response\n",
    "        st.markdown(markdown_response)\n",
    "    else:\n",
    "        st.error(\"Please enter a food order.\")\n"
   ]
  },
  {
   "cell_type": "code",
   "execution_count": null,
   "metadata": {},
   "outputs": [],
   "source": []
  }
 ],
 "metadata": {
  "kernelspec": {
   "display_name": "Python 3",
   "language": "python",
   "name": "python3"
  },
  "language_info": {
   "codemirror_mode": {
    "name": "ipython",
    "version": 3
   },
   "file_extension": ".py",
   "mimetype": "text/x-python",
   "name": "python",
   "nbconvert_exporter": "python",
   "pygments_lexer": "ipython3",
   "version": "3.11.9"
  }
 },
 "nbformat": 4,
 "nbformat_minor": 2
}
